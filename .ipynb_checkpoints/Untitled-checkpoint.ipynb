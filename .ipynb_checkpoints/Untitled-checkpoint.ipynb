{
 "cells": [
  {
   "cell_type": "markdown",
   "metadata": {},
   "source": [
    "# DATA 512 FINAL PROJECT PROPOSAL\n",
    "\n",
    "## Goal for this project:\n",
    "I'm hoping to look at musician information data to see if there is a relation between genre type/ genre count and view count, to see what kind(s) of genre(s) are more popular as of 6 months ago.\n",
    "\n",
    "## Link to Dataset:\n",
    "\n",
    "The dataset is an opensource kaggle dataset found at: https://www.kaggle.com/pieca111/music-artists-popularity\n",
    "\n",
    "## License for Dataset:\n",
    "\n",
    "Interestingly although this is an open source dataset, the license is listed as \"unknown\" : https://www.kaggle.com/pieca111/music-artists-popularity/metadata\n",
    "\n",
    "## Possible Biases for the data:\n",
    "\n",
    "- The data has contains viewcounts from a limited source, guaging the \"popularity\" of an artist may not be possible considering certain people do not even have access to this particular streaming site.\n",
    "\n",
    "- The data is also only limited to bands listed on the site \"musicbrainz\" which may not include certain independent artists that may have a niche but strong following.\n",
    "\n",
    "- Also, streaming counts may not be a great guage of popularity, it may imply a certain song by the band is popular, but not that the band itself is popular (case in point one hit wonders like vanilla ice)\n",
    "\n",
    "- The recorded genres (artist tags) are also recorded by fans or music listeners, which may not be accurate or reflect what the band itself considers their branding to be.\n",
    "\n",
    "- The fact that there are so many tags for each artist implies that there will be massive overlap in many genres that should not generally overlap, I may deal with this bias by creating my own major genres and categorizing each artist based on the number of tags of each category the band has and figuring out the majority"
   ]
  }
 ],
 "metadata": {
  "kernelspec": {
   "display_name": "Python 3",
   "language": "python",
   "name": "python3"
  },
  "language_info": {
   "codemirror_mode": {
    "name": "ipython",
    "version": 3
   },
   "file_extension": ".py",
   "mimetype": "text/x-python",
   "name": "python",
   "nbconvert_exporter": "python",
   "pygments_lexer": "ipython3",
   "version": "3.7.3"
  }
 },
 "nbformat": 4,
 "nbformat_minor": 2
}
