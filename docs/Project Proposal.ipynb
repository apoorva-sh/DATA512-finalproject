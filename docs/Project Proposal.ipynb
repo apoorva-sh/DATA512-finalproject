{
 "cells": [
  {
   "cell_type": "markdown",
   "metadata": {},
   "source": [
    "# DATA 512 FINAL PROJECT PROPOSAL\n",
    "\n",
    "## Goal for this project:\n",
    "To look at the relation ship between music and various emotions (as an initial response)\n",
    "\n",
    "## Link to Dataset:\n",
    "\n",
    "The dataset is available at: https://dataverse.harvard.edu/dataset.xhtml?persistentId=doi:10.7910/DVN/IFOBRN\n",
    "\n",
    "## Data Description\n",
    "\n",
    "The dataset contains an initial average emotional response to a factorially altered music clip (7 features of a music clip are altered and the first emotional response is recorded for each version of the clip. the 7 features being Register, Mode, Tempo, Sound level, Articulation, Timbre, Melody)\n",
    "\n",
    "## License for Dataset:\n",
    "\n",
    "The license is listed as CC0: Public Domain as listed in the \"Terms\" section of the data description\n",
    "\n",
    "## Possible Biases for the data:\n",
    "\n",
    "- I could not find a specification as to who the study was conducted on, emotional responses can have other listener specific responses\n",
    "- The initial sound wave that is altered factorially could also affect the emotional response/feel of a song"
   ]
  }
 ],
 "metadata": {
  "kernelspec": {
   "display_name": "Python 3",
   "language": "python",
   "name": "python3"
  },
  "language_info": {
   "codemirror_mode": {
    "name": "ipython",
    "version": 3
   },
   "file_extension": ".py",
   "mimetype": "text/x-python",
   "name": "python",
   "nbconvert_exporter": "python",
   "pygments_lexer": "ipython3",
   "version": "3.7.3"
  }
 },
 "nbformat": 4,
 "nbformat_minor": 2
}
