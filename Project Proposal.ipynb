{
 "cells": [
  {
   "cell_type": "markdown",
   "metadata": {},
   "source": [
    "# DATA 512 FINAL PROJECT PROPOSAL\n",
    "\n",
    "## Goal for this project:\n",
    "I'm hoping to explore this rich dataset to find some form of clustering in differnet hobbies and phobias as of 2013 amongst \"young\" people, it would be interesting to see if a pattern arises in such an analysis.\n",
    "\n",
    "## Link to Dataset:\n",
    "\n",
    "The dataset is an opensource kaggle dataset found at: https://www.kaggle.com/miroslavsabo/young-people-survey#responses.csv\n",
    "\n",
    "## License for Dataset:\n",
    "\n",
    "The license is listed as CC0: Public Domain : https://www.kaggle.com/miroslavsabo/young-people-survey/metadata\n",
    "\n",
    "## Possible Biases for the data:\n",
    "\n",
    "- The data has been collected from a restricted group \"students who take a particualr staistics class, and their friends\", this data may not translate well to all sects of \"young people\"\n",
    "- This dataset does not record the age of domeone who takes the survey, young people need not necessarily have young friends\n",
    "- This dataset has some preset hobbies and phobias that \"young\" people will rate as interesting, there could be certain hobbies or phobias that are not explored in this dataset."
   ]
  },
  {
   "cell_type": "code",
   "execution_count": null,
   "metadata": {},
   "outputs": [],
   "source": []
  }
 ],
 "metadata": {
  "kernelspec": {
   "display_name": "Python 3",
   "language": "python",
   "name": "python3"
  },
  "language_info": {
   "codemirror_mode": {
    "name": "ipython",
    "version": 3
   },
   "file_extension": ".py",
   "mimetype": "text/x-python",
   "name": "python",
   "nbconvert_exporter": "python",
   "pygments_lexer": "ipython3",
   "version": "3.7.3"
  }
 },
 "nbformat": 4,
 "nbformat_minor": 2
}
